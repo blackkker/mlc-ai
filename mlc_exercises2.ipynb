{
  "nbformat": 4,
  "nbformat_minor": 0,
  "metadata": {
    "colab": {
      "name": "mlc_exercises2.ipynb",
      "provenance": [],
      "collapsed_sections": [],
      "toc_visible": true,
      "authorship_tag": "ABX9TyMbKCMLEg1vtyGH2j75DjjY",
      "include_colab_link": true
    },
    "kernelspec": {
      "name": "python3",
      "display_name": "Python 3"
    },
    "language_info": {
      "name": "python"
    }
  },
  "cells": [
    {
      "cell_type": "markdown",
      "metadata": {
        "id": "view-in-github",
        "colab_type": "text"
      },
      "source": [
        "<a href=\"https://colab.research.google.com/github/blackkker/mlc-ai/blob/main/mlc_exercises2.ipynb\" target=\"_parent\"><img src=\"https://colab.research.google.com/assets/colab-badge.svg\" alt=\"Open In Colab\"/></a>"
      ]
    },
    {
      "cell_type": "code",
      "execution_count": null,
      "metadata": {
        "colab": {
          "base_uri": "https://localhost:8080/"
        },
        "id": "QT3IwrbvNwwZ",
        "outputId": "d9c0783d-b83e-4d21-832a-9a7c8b76d5da"
      },
      "outputs": [
        {
          "output_type": "stream",
          "name": "stdout",
          "text": [
            "Looking in indexes: https://pypi.org/simple, https://us-python.pkg.dev/colab-wheels/public/simple/\n",
            "Looking in links: https://mlc.ai/wheels\n",
            "Requirement already satisfied: mlc-ai-nightly in /usr/local/lib/python3.7/dist-packages (0.9.dev1664+g1f3985de0)\n",
            "Requirement already satisfied: synr==0.6.0 in /usr/local/lib/python3.7/dist-packages (from mlc-ai-nightly) (0.6.0)\n",
            "Requirement already satisfied: tornado in /usr/local/lib/python3.7/dist-packages (from mlc-ai-nightly) (5.1.1)\n",
            "Requirement already satisfied: decorator in /usr/local/lib/python3.7/dist-packages (from mlc-ai-nightly) (4.4.2)\n",
            "Requirement already satisfied: psutil in /usr/local/lib/python3.7/dist-packages (from mlc-ai-nightly) (5.4.8)\n",
            "Requirement already satisfied: attrs in /usr/local/lib/python3.7/dist-packages (from mlc-ai-nightly) (21.4.0)\n",
            "Requirement already satisfied: scipy in /usr/local/lib/python3.7/dist-packages (from mlc-ai-nightly) (1.4.1)\n",
            "Requirement already satisfied: cloudpickle in /usr/local/lib/python3.7/dist-packages (from mlc-ai-nightly) (1.3.0)\n",
            "Requirement already satisfied: numpy in /usr/local/lib/python3.7/dist-packages (from mlc-ai-nightly) (1.21.6)\n"
          ]
        }
      ],
      "source": [
        "!python3 -m  pip install mlc-ai-nightly -f https://mlc.ai/wheels"
      ]
    },
    {
      "cell_type": "markdown",
      "source": [
        "Import"
      ],
      "metadata": {
        "id": "4z_3JRqHODtE"
      }
    },
    {
      "cell_type": "code",
      "source": [
        "import IPython\n",
        "import tvm\n",
        "from tvm.ir.module import IRModule\n",
        "from tvm.script import tir as T, relax as R\n",
        "import numpy as np\n",
        "from tvm import relax\n",
        "# This is needed for deferring annotation parsing in TVMScript\n",
        "from __future__ import annotations "
      ],
      "metadata": {
        "id": "NyKpTfPnOAwD"
      },
      "execution_count": null,
      "outputs": []
    },
    {
      "cell_type": "code",
      "source": [
        "def code2html(code):\n",
        "    \"\"\"Helper function to use pygments to turn the code string into highlighted html.\"\"\"\n",
        "    import pygments\n",
        "    from pygments.lexers import Python3Lexer\n",
        "    from pygments.formatters import HtmlFormatter\n",
        "    formatter = HtmlFormatter()\n",
        "    html = pygments.highlight(code, Python3Lexer(), formatter)\n",
        "    return \"<style>%s</style>%s\\n\" % (formatter.get_style_defs(\".highlight\"), html)"
      ],
      "metadata": {
        "id": "_HpvT35yRgAV"
      },
      "execution_count": null,
      "outputs": []
    },
    {
      "cell_type": "markdown",
      "source": [
        "# 练习 1：广播加法\n",
        "请编写一个 TensorIR 函数，将两个数组以广播的方式相加。"
      ],
      "metadata": {
        "id": "6pJ4I-n1N2Rl"
      }
    },
    {
      "cell_type": "code",
      "source": [
        "# init data\n",
        "a = np.arange(16).reshape(4, 4)\n",
        "b = np.arange(4, 0, -1).reshape(4)\n",
        "\n",
        "# numpy version\n",
        "c_np = a + b\n",
        "c_np"
      ],
      "metadata": {
        "colab": {
          "base_uri": "https://localhost:8080/"
        },
        "id": "gc2U0Nq2N5jD",
        "outputId": "88a0a296-e5f7-41ac-f6a8-cc03650f7800"
      },
      "execution_count": null,
      "outputs": [
        {
          "output_type": "execute_result",
          "data": {
            "text/plain": [
              "array([[ 4,  4,  4,  4],\n",
              "       [ 8,  8,  8,  8],\n",
              "       [12, 12, 12, 12],\n",
              "       [16, 16, 16, 16]])"
            ]
          },
          "metadata": {},
          "execution_count": 4
        }
      ]
    },
    {
      "cell_type": "code",
      "source": [
        "@tvm.script.ir_module\n",
        "class MyAdd:\n",
        "  @T.prim_func\n",
        "  def add(A:T.Buffer[(4,4),\"int64\"],\n",
        "       B:T.Buffer[4,\"int64\"],\n",
        "       C:T.Buffer[(4,4),\"int64\"]):\n",
        "    T.func_attr({\"global_symbol\": \"add\", \"tir.noalias\": True})\n",
        "    # TODO\n",
        "    for i, j in T.grid(4, 4):\n",
        "      with T.block(\"C\"):\n",
        "        vi = T.axis.spatial(4, i)\n",
        "        vj = T.axis.spatial(4, j)\n",
        "        C[vi, vj] = A[vi, vj] + B[vj]\n",
        "\n",
        "rt_lib = tvm.build(MyAdd, target=\"llvm\")\n",
        "a_tvm = tvm.nd.array(a)\n",
        "b_tvm = tvm.nd.array(b)\n",
        "c_tvm = tvm.nd.array(np.empty((4, 4), dtype=np.int64))\n",
        "rt_lib[\"add\"](a_tvm, b_tvm, c_tvm)\n",
        "np.testing.assert_allclose(c_tvm.numpy(), c_np, rtol=1e-5)\n",
        "print(\"Pass!!!\")"
      ],
      "metadata": {
        "colab": {
          "base_uri": "https://localhost:8080/"
        },
        "id": "d3s25Pu4OKCd",
        "outputId": "2a4c6e77-d3de-4f77-a075-e162833dc8b3"
      },
      "execution_count": null,
      "outputs": [
        {
          "output_type": "stream",
          "name": "stdout",
          "text": [
            "Pass!!!\n"
          ]
        }
      ]
    },
    {
      "cell_type": "markdown",
      "source": [
        "# 练习 2：二维卷积\n",
        "然后，让我们尝试做一些具有挑战性的事情：二维卷积。这是图像处理中的常见操作。\n",
        "\n",
        "这是使用 NCHW 布局的卷积的数学定义：\n",
        "![image.png](data:image/png;base64,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)\n",
        "\n",
        "其中，A 是输入张量，W 是权重张量，b 是批次索引，k 是输出通道，i 和 j 是图像高度和宽度的索引，di 和 dj 是权重的索引，q 是输入通道，strides 是过滤器窗口的步幅。\n",
        "\n",
        "在练习中，我们选择了一个小而简单的情况，即 stride=1, padding=0。"
      ],
      "metadata": {
        "id": "bA2sbji4Q3ue"
      }
    },
    {
      "cell_type": "markdown",
      "source": [
        "## Torch implement"
      ],
      "metadata": {
        "id": "uVo70aSQQmPj"
      }
    },
    {
      "cell_type": "code",
      "source": [
        "N, CI, H, W, CO, K = 1, 1, 8, 8, 2, 3\n",
        "OUT_H, OUT_W = H - K + 1, W - K + 1\n",
        "data = np.arange(N*CI*H*W).reshape(N, CI, H, W)\n",
        "weight = np.arange(CO*CI*K*K).reshape(CO, CI, K, K)\n",
        "print(data.shape)\n",
        "print(weight.shape)\n",
        "\n",
        "# torch version\n",
        "import torch\n",
        "\n",
        "data_torch = torch.Tensor(data)\n",
        "weight_torch = torch.Tensor(weight)\n",
        "conv_torch = torch.nn.functional.conv2d(data_torch, weight_torch)\n",
        "conv_torch = conv_torch.numpy().astype(np.int64)\n",
        "conv_torch"
      ],
      "metadata": {
        "colab": {
          "base_uri": "https://localhost:8080/"
        },
        "id": "XwreCjKHRnXj",
        "outputId": "9d9bb190-879c-41b9-b3a5-fbb5188a595d"
      },
      "execution_count": null,
      "outputs": [
        {
          "output_type": "stream",
          "name": "stdout",
          "text": [
            "(1, 1, 8, 8)\n",
            "(2, 1, 3, 3)\n"
          ]
        },
        {
          "output_type": "execute_result",
          "data": {
            "text/plain": [
              "array([[[[ 474,  510,  546,  582,  618,  654],\n",
              "         [ 762,  798,  834,  870,  906,  942],\n",
              "         [1050, 1086, 1122, 1158, 1194, 1230],\n",
              "         [1338, 1374, 1410, 1446, 1482, 1518],\n",
              "         [1626, 1662, 1698, 1734, 1770, 1806],\n",
              "         [1914, 1950, 1986, 2022, 2058, 2094]],\n",
              "\n",
              "        [[1203, 1320, 1437, 1554, 1671, 1788],\n",
              "         [2139, 2256, 2373, 2490, 2607, 2724],\n",
              "         [3075, 3192, 3309, 3426, 3543, 3660],\n",
              "         [4011, 4128, 4245, 4362, 4479, 4596],\n",
              "         [4947, 5064, 5181, 5298, 5415, 5532],\n",
              "         [5883, 6000, 6117, 6234, 6351, 6468]]]])"
            ]
          },
          "metadata": {},
          "execution_count": 6
        }
      ]
    },
    {
      "cell_type": "markdown",
      "source": [
        "## IR_MODULE"
      ],
      "metadata": {
        "id": "3THHg_atR3Rt"
      }
    },
    {
      "cell_type": "code",
      "source": [
        "@tvm.script.ir_module\n",
        "class MyConv:\n",
        "  @T.prim_func\n",
        "  def conv(A: T.Buffer[(N, CI, 8, 8), \"int64\"],\n",
        "       B: T.Buffer[(CO, CI, K, K), \"int64\"], \n",
        "       C: T.Buffer[(N, CO, OUT_H, OUT_W), \"int64\"]):\n",
        "    T.func_attr({\"global_symbol\": \"conv\", \"tir.noalias\": True})\n",
        "    for b, k, i, j, q, di, dj in T.grid(N, CO, OUT_H, OUT_W, CI, K, K):\n",
        "      with T.block(\"C\"):\n",
        "        vb, vk, vi, vj, vq, vdi, vdj = T.axis.remap(\"SSSSRRR\", [b, k, i, j, q, di, dj])\n",
        "        with T.init():\n",
        "          C[vb, vk, vi, vj] = T.int64(0)\n",
        "        C[vb, vk, vi, vj] = C[vb, vk, vi, vj] + A[vb, vq, vi + vdi, vj + vdj] * B[vk, vq, vdi, vdj]"
      ],
      "metadata": {
        "id": "RkdZ7lETRwUk"
      },
      "execution_count": null,
      "outputs": []
    },
    {
      "cell_type": "markdown",
      "source": [
        "## Compare"
      ],
      "metadata": {
        "id": "4ZapvQDfQfL6"
      }
    },
    {
      "cell_type": "code",
      "source": [
        "rt_lib = tvm.build(MyConv, target=\"llvm\")\n",
        "data_tvm = tvm.nd.array(data)\n",
        "weight_tvm = tvm.nd.array(weight)\n",
        "conv_tvm = tvm.nd.array(np.empty((N, CO, OUT_H, OUT_W), dtype=np.int64))\n",
        "rt_lib[\"conv\"](data_tvm, weight_tvm, conv_tvm)\n",
        "np.testing.assert_allclose(conv_tvm.numpy(), conv_torch, rtol=1e-5)\n",
        "print(\"Pass!!!\")"
      ],
      "metadata": {
        "colab": {
          "base_uri": "https://localhost:8080/"
        },
        "id": "N-7xMf8GQdoj",
        "outputId": "be45f468-aba7-4456-f730-ec79afa7b37c"
      },
      "execution_count": null,
      "outputs": [
        {
          "output_type": "stream",
          "name": "stdout",
          "text": [
            "Pass!!!\n"
          ]
        }
      ]
    },
    {
      "cell_type": "markdown",
      "source": [
        "# 练习 3：变换批量矩阵乘法程序"
      ],
      "metadata": {
        "id": "oLFXmngVmxaH"
      }
    },
    {
      "cell_type": "markdown",
      "source": [
        "## numpy implement"
      ],
      "metadata": {
        "id": "MoBtVKCpQND0"
      }
    },
    {
      "cell_type": "code",
      "source": [
        "def lnumpy_mm_relu_v2(A: np.ndarray, B: np.ndarray, C: np.ndarray):\n",
        "    Y = np.empty((16, 128, 128), dtype=\"float32\")\n",
        "    for n in range(16):\n",
        "        for i in range(128):\n",
        "            for j in range(128):\n",
        "                for k in range(128):\n",
        "                    if k == 0:\n",
        "                        Y[n, i, j] = 0\n",
        "                    Y[n, i, j] = Y[n, i, j] + A[n, i, k] * B[n, k, j]\n",
        "    for n in range(16):\n",
        "        for i in range(128):\n",
        "            for j in range(128):\n",
        "                C[n, i, j] = max(Y[n, i, j], 0)"
      ],
      "metadata": {
        "id": "_4nW0fajm1Uz"
      },
      "execution_count": null,
      "outputs": []
    },
    {
      "cell_type": "markdown",
      "source": [
        "## Tir implement"
      ],
      "metadata": {
        "id": "xiMAgRoTQRGz"
      }
    },
    {
      "cell_type": "code",
      "source": [
        "@tvm.script.ir_module\n",
        "class MyBmmRelu:\n",
        "  @T.prim_func\n",
        "  def bmm_relu(A: T.Buffer[(16, 128, 128),\"float32\"],\n",
        "         B: T.Buffer[(16, 128, 128),\"float32\"],\n",
        "         C: T.Buffer[(16, 128, 128),\"float32\"]):\n",
        "    T.func_attr({\"global_symbol\": \"bmm_relu\", \"tir.noalias\": True})\n",
        "    Y = T.alloc_buffer((16, 128, 128),\"float32\")\n",
        "    for b, i, j, k in T.grid(16, 128, 128, 128):\n",
        "      with T.block(\"Y\"):\n",
        "        vb, vi, vj, vk = T.axis.remap(\"SSSR\", [b, i, j, k])\n",
        "        with T.init():\n",
        "          Y[vb, vi, vj] = T.float32(0)\n",
        "        Y[vb ,vi, vj] = Y[vb,vi,vj] + A[vb, vi, vk] * B[vb, vk, vj]\n",
        "    for b, i, j in T.grid(16, 128, 128):\n",
        "      with T.block(\"C\"):\n",
        "        vb, vi, vj = T.axis.remap(\"SSS\",[b, i, j])\n",
        "        C[vb, vi, vj] = T.max(Y[vb ,vi, vj], T.float32(0))\n",
        "\n",
        "# Also please validate your result"
      ],
      "metadata": {
        "id": "Q5MLLbW_m1wW"
      },
      "execution_count": null,
      "outputs": []
    },
    {
      "cell_type": "code",
      "source": [
        "sch = tvm.tir.Schedule(MyBmmRelu)\n",
        "IPython.display.HTML(code2html(sch.mod.script()))"
      ],
      "metadata": {
        "colab": {
          "base_uri": "https://localhost:8080/",
          "height": 454
        },
        "id": "H67n4Jv0R2sU",
        "outputId": "238b8e6f-7bbf-43b4-cf28-87eb8684feea"
      },
      "execution_count": null,
      "outputs": [
        {
          "output_type": "execute_result",
          "data": {
            "text/plain": [
              "<IPython.core.display.HTML object>"
            ],
            "text/html": [
              "<style>.highlight .hll { background-color: #ffffcc }\n",
              ".highlight  { background: #f8f8f8; }\n",
              ".highlight .c { color: #408080; font-style: italic } /* Comment */\n",
              ".highlight .err { border: 1px solid #FF0000 } /* Error */\n",
              ".highlight .k { color: #008000; font-weight: bold } /* Keyword */\n",
              ".highlight .o { color: #666666 } /* Operator */\n",
              ".highlight .ch { color: #408080; font-style: italic } /* Comment.Hashbang */\n",
              ".highlight .cm { color: #408080; font-style: italic } /* Comment.Multiline */\n",
              ".highlight .cp { color: #BC7A00 } /* Comment.Preproc */\n",
              ".highlight .cpf { color: #408080; font-style: italic } /* Comment.PreprocFile */\n",
              ".highlight .c1 { color: #408080; font-style: italic } /* Comment.Single */\n",
              ".highlight .cs { color: #408080; font-style: italic } /* Comment.Special */\n",
              ".highlight .gd { color: #A00000 } /* Generic.Deleted */\n",
              ".highlight .ge { font-style: italic } /* Generic.Emph */\n",
              ".highlight .gr { color: #FF0000 } /* Generic.Error */\n",
              ".highlight .gh { color: #000080; font-weight: bold } /* Generic.Heading */\n",
              ".highlight .gi { color: #00A000 } /* Generic.Inserted */\n",
              ".highlight .go { color: #888888 } /* Generic.Output */\n",
              ".highlight .gp { color: #000080; font-weight: bold } /* Generic.Prompt */\n",
              ".highlight .gs { font-weight: bold } /* Generic.Strong */\n",
              ".highlight .gu { color: #800080; font-weight: bold } /* Generic.Subheading */\n",
              ".highlight .gt { color: #0044DD } /* Generic.Traceback */\n",
              ".highlight .kc { color: #008000; font-weight: bold } /* Keyword.Constant */\n",
              ".highlight .kd { color: #008000; font-weight: bold } /* Keyword.Declaration */\n",
              ".highlight .kn { color: #008000; font-weight: bold } /* Keyword.Namespace */\n",
              ".highlight .kp { color: #008000 } /* Keyword.Pseudo */\n",
              ".highlight .kr { color: #008000; font-weight: bold } /* Keyword.Reserved */\n",
              ".highlight .kt { color: #B00040 } /* Keyword.Type */\n",
              ".highlight .m { color: #666666 } /* Literal.Number */\n",
              ".highlight .s { color: #BA2121 } /* Literal.String */\n",
              ".highlight .na { color: #7D9029 } /* Name.Attribute */\n",
              ".highlight .nb { color: #008000 } /* Name.Builtin */\n",
              ".highlight .nc { color: #0000FF; font-weight: bold } /* Name.Class */\n",
              ".highlight .no { color: #880000 } /* Name.Constant */\n",
              ".highlight .nd { color: #AA22FF } /* Name.Decorator */\n",
              ".highlight .ni { color: #999999; font-weight: bold } /* Name.Entity */\n",
              ".highlight .ne { color: #D2413A; font-weight: bold } /* Name.Exception */\n",
              ".highlight .nf { color: #0000FF } /* Name.Function */\n",
              ".highlight .nl { color: #A0A000 } /* Name.Label */\n",
              ".highlight .nn { color: #0000FF; font-weight: bold } /* Name.Namespace */\n",
              ".highlight .nt { color: #008000; font-weight: bold } /* Name.Tag */\n",
              ".highlight .nv { color: #19177C } /* Name.Variable */\n",
              ".highlight .ow { color: #AA22FF; font-weight: bold } /* Operator.Word */\n",
              ".highlight .w { color: #bbbbbb } /* Text.Whitespace */\n",
              ".highlight .mb { color: #666666 } /* Literal.Number.Bin */\n",
              ".highlight .mf { color: #666666 } /* Literal.Number.Float */\n",
              ".highlight .mh { color: #666666 } /* Literal.Number.Hex */\n",
              ".highlight .mi { color: #666666 } /* Literal.Number.Integer */\n",
              ".highlight .mo { color: #666666 } /* Literal.Number.Oct */\n",
              ".highlight .sa { color: #BA2121 } /* Literal.String.Affix */\n",
              ".highlight .sb { color: #BA2121 } /* Literal.String.Backtick */\n",
              ".highlight .sc { color: #BA2121 } /* Literal.String.Char */\n",
              ".highlight .dl { color: #BA2121 } /* Literal.String.Delimiter */\n",
              ".highlight .sd { color: #BA2121; font-style: italic } /* Literal.String.Doc */\n",
              ".highlight .s2 { color: #BA2121 } /* Literal.String.Double */\n",
              ".highlight .se { color: #BB6622; font-weight: bold } /* Literal.String.Escape */\n",
              ".highlight .sh { color: #BA2121 } /* Literal.String.Heredoc */\n",
              ".highlight .si { color: #BB6688; font-weight: bold } /* Literal.String.Interpol */\n",
              ".highlight .sx { color: #008000 } /* Literal.String.Other */\n",
              ".highlight .sr { color: #BB6688 } /* Literal.String.Regex */\n",
              ".highlight .s1 { color: #BA2121 } /* Literal.String.Single */\n",
              ".highlight .ss { color: #19177C } /* Literal.String.Symbol */\n",
              ".highlight .bp { color: #008000 } /* Name.Builtin.Pseudo */\n",
              ".highlight .fm { color: #0000FF } /* Name.Function.Magic */\n",
              ".highlight .vc { color: #19177C } /* Name.Variable.Class */\n",
              ".highlight .vg { color: #19177C } /* Name.Variable.Global */\n",
              ".highlight .vi { color: #19177C } /* Name.Variable.Instance */\n",
              ".highlight .vm { color: #19177C } /* Name.Variable.Magic */\n",
              ".highlight .il { color: #666666 } /* Literal.Number.Integer.Long */</style><div class=\"highlight\"><pre><span></span><span class=\"nd\">@tvm</span><span class=\"o\">.</span><span class=\"n\">script</span><span class=\"o\">.</span><span class=\"n\">ir_module</span>\n",
              "<span class=\"k\">class</span> <span class=\"nc\">Module</span><span class=\"p\">:</span>\n",
              "    <span class=\"nd\">@tir</span><span class=\"o\">.</span><span class=\"n\">prim_func</span>\n",
              "    <span class=\"k\">def</span> <span class=\"nf\">bmm_relu</span><span class=\"p\">(</span><span class=\"n\">A</span><span class=\"p\">:</span> <span class=\"n\">tir</span><span class=\"o\">.</span><span class=\"n\">Buffer</span><span class=\"p\">[(</span><span class=\"mi\">16</span><span class=\"p\">,</span> <span class=\"mi\">128</span><span class=\"p\">,</span> <span class=\"mi\">128</span><span class=\"p\">),</span> <span class=\"s2\">&quot;float32&quot;</span><span class=\"p\">],</span> <span class=\"n\">B</span><span class=\"p\">:</span> <span class=\"n\">tir</span><span class=\"o\">.</span><span class=\"n\">Buffer</span><span class=\"p\">[(</span><span class=\"mi\">16</span><span class=\"p\">,</span> <span class=\"mi\">128</span><span class=\"p\">,</span> <span class=\"mi\">128</span><span class=\"p\">),</span> <span class=\"s2\">&quot;float32&quot;</span><span class=\"p\">],</span> <span class=\"n\">C</span><span class=\"p\">:</span> <span class=\"n\">tir</span><span class=\"o\">.</span><span class=\"n\">Buffer</span><span class=\"p\">[(</span><span class=\"mi\">16</span><span class=\"p\">,</span> <span class=\"mi\">128</span><span class=\"p\">,</span> <span class=\"mi\">128</span><span class=\"p\">),</span> <span class=\"s2\">&quot;float32&quot;</span><span class=\"p\">])</span> <span class=\"o\">-&gt;</span> <span class=\"kc\">None</span><span class=\"p\">:</span>\n",
              "        <span class=\"c1\"># function attr dict</span>\n",
              "        <span class=\"n\">tir</span><span class=\"o\">.</span><span class=\"n\">func_attr</span><span class=\"p\">({</span><span class=\"s2\">&quot;global_symbol&quot;</span><span class=\"p\">:</span> <span class=\"s2\">&quot;bmm_relu&quot;</span><span class=\"p\">,</span> <span class=\"s2\">&quot;tir.noalias&quot;</span><span class=\"p\">:</span> <span class=\"kc\">True</span><span class=\"p\">})</span>\n",
              "        <span class=\"c1\"># body</span>\n",
              "        <span class=\"c1\"># with tir.block(&quot;root&quot;)</span>\n",
              "        <span class=\"n\">Y</span> <span class=\"o\">=</span> <span class=\"n\">tir</span><span class=\"o\">.</span><span class=\"n\">alloc_buffer</span><span class=\"p\">([</span><span class=\"mi\">16</span><span class=\"p\">,</span> <span class=\"mi\">128</span><span class=\"p\">,</span> <span class=\"mi\">128</span><span class=\"p\">],</span> <span class=\"n\">dtype</span><span class=\"o\">=</span><span class=\"s2\">&quot;float32&quot;</span><span class=\"p\">)</span>\n",
              "        <span class=\"k\">for</span> <span class=\"n\">b</span><span class=\"p\">,</span> <span class=\"n\">i</span><span class=\"p\">,</span> <span class=\"n\">j</span><span class=\"p\">,</span> <span class=\"n\">k</span> <span class=\"ow\">in</span> <span class=\"n\">tir</span><span class=\"o\">.</span><span class=\"n\">grid</span><span class=\"p\">(</span><span class=\"mi\">16</span><span class=\"p\">,</span> <span class=\"mi\">128</span><span class=\"p\">,</span> <span class=\"mi\">128</span><span class=\"p\">,</span> <span class=\"mi\">128</span><span class=\"p\">):</span>\n",
              "            <span class=\"k\">with</span> <span class=\"n\">tir</span><span class=\"o\">.</span><span class=\"n\">block</span><span class=\"p\">(</span><span class=\"s2\">&quot;Y&quot;</span><span class=\"p\">):</span>\n",
              "                <span class=\"n\">vb</span><span class=\"p\">,</span> <span class=\"n\">vi</span><span class=\"p\">,</span> <span class=\"n\">vj</span><span class=\"p\">,</span> <span class=\"n\">vk</span> <span class=\"o\">=</span> <span class=\"n\">tir</span><span class=\"o\">.</span><span class=\"n\">axis</span><span class=\"o\">.</span><span class=\"n\">remap</span><span class=\"p\">(</span><span class=\"s2\">&quot;SSSR&quot;</span><span class=\"p\">,</span> <span class=\"p\">[</span><span class=\"n\">b</span><span class=\"p\">,</span> <span class=\"n\">i</span><span class=\"p\">,</span> <span class=\"n\">j</span><span class=\"p\">,</span> <span class=\"n\">k</span><span class=\"p\">])</span>\n",
              "                <span class=\"n\">tir</span><span class=\"o\">.</span><span class=\"n\">reads</span><span class=\"p\">(</span><span class=\"n\">A</span><span class=\"p\">[</span><span class=\"n\">vb</span><span class=\"p\">,</span> <span class=\"n\">vi</span><span class=\"p\">,</span> <span class=\"n\">vk</span><span class=\"p\">],</span> <span class=\"n\">B</span><span class=\"p\">[</span><span class=\"n\">vb</span><span class=\"p\">,</span> <span class=\"n\">vk</span><span class=\"p\">,</span> <span class=\"n\">vj</span><span class=\"p\">])</span>\n",
              "                <span class=\"n\">tir</span><span class=\"o\">.</span><span class=\"n\">writes</span><span class=\"p\">(</span><span class=\"n\">Y</span><span class=\"p\">[</span><span class=\"n\">vb</span><span class=\"p\">,</span> <span class=\"n\">vi</span><span class=\"p\">,</span> <span class=\"n\">vj</span><span class=\"p\">])</span>\n",
              "                <span class=\"k\">with</span> <span class=\"n\">tir</span><span class=\"o\">.</span><span class=\"n\">init</span><span class=\"p\">():</span>\n",
              "                    <span class=\"n\">Y</span><span class=\"p\">[</span><span class=\"n\">vb</span><span class=\"p\">,</span> <span class=\"n\">vi</span><span class=\"p\">,</span> <span class=\"n\">vj</span><span class=\"p\">]</span> <span class=\"o\">=</span> <span class=\"n\">tir</span><span class=\"o\">.</span><span class=\"n\">float32</span><span class=\"p\">(</span><span class=\"mi\">0</span><span class=\"p\">)</span>\n",
              "                <span class=\"n\">Y</span><span class=\"p\">[</span><span class=\"n\">vb</span><span class=\"p\">,</span> <span class=\"n\">vi</span><span class=\"p\">,</span> <span class=\"n\">vj</span><span class=\"p\">]</span> <span class=\"o\">=</span> <span class=\"n\">Y</span><span class=\"p\">[</span><span class=\"n\">vb</span><span class=\"p\">,</span> <span class=\"n\">vi</span><span class=\"p\">,</span> <span class=\"n\">vj</span><span class=\"p\">]</span> <span class=\"o\">+</span> <span class=\"n\">A</span><span class=\"p\">[</span><span class=\"n\">vb</span><span class=\"p\">,</span> <span class=\"n\">vi</span><span class=\"p\">,</span> <span class=\"n\">vk</span><span class=\"p\">]</span> <span class=\"o\">*</span> <span class=\"n\">B</span><span class=\"p\">[</span><span class=\"n\">vb</span><span class=\"p\">,</span> <span class=\"n\">vk</span><span class=\"p\">,</span> <span class=\"n\">vj</span><span class=\"p\">]</span>\n",
              "        <span class=\"k\">for</span> <span class=\"n\">b</span><span class=\"p\">,</span> <span class=\"n\">i</span><span class=\"p\">,</span> <span class=\"n\">j</span> <span class=\"ow\">in</span> <span class=\"n\">tir</span><span class=\"o\">.</span><span class=\"n\">grid</span><span class=\"p\">(</span><span class=\"mi\">16</span><span class=\"p\">,</span> <span class=\"mi\">128</span><span class=\"p\">,</span> <span class=\"mi\">128</span><span class=\"p\">):</span>\n",
              "            <span class=\"k\">with</span> <span class=\"n\">tir</span><span class=\"o\">.</span><span class=\"n\">block</span><span class=\"p\">(</span><span class=\"s2\">&quot;C&quot;</span><span class=\"p\">):</span>\n",
              "                <span class=\"n\">vb</span><span class=\"p\">,</span> <span class=\"n\">vi</span><span class=\"p\">,</span> <span class=\"n\">vj</span> <span class=\"o\">=</span> <span class=\"n\">tir</span><span class=\"o\">.</span><span class=\"n\">axis</span><span class=\"o\">.</span><span class=\"n\">remap</span><span class=\"p\">(</span><span class=\"s2\">&quot;SSS&quot;</span><span class=\"p\">,</span> <span class=\"p\">[</span><span class=\"n\">b</span><span class=\"p\">,</span> <span class=\"n\">i</span><span class=\"p\">,</span> <span class=\"n\">j</span><span class=\"p\">])</span>\n",
              "                <span class=\"n\">tir</span><span class=\"o\">.</span><span class=\"n\">reads</span><span class=\"p\">(</span><span class=\"n\">Y</span><span class=\"p\">[</span><span class=\"n\">vb</span><span class=\"p\">,</span> <span class=\"n\">vi</span><span class=\"p\">,</span> <span class=\"n\">vj</span><span class=\"p\">])</span>\n",
              "                <span class=\"n\">tir</span><span class=\"o\">.</span><span class=\"n\">writes</span><span class=\"p\">(</span><span class=\"n\">C</span><span class=\"p\">[</span><span class=\"n\">vb</span><span class=\"p\">,</span> <span class=\"n\">vi</span><span class=\"p\">,</span> <span class=\"n\">vj</span><span class=\"p\">])</span>\n",
              "                <span class=\"n\">C</span><span class=\"p\">[</span><span class=\"n\">vb</span><span class=\"p\">,</span> <span class=\"n\">vi</span><span class=\"p\">,</span> <span class=\"n\">vj</span><span class=\"p\">]</span> <span class=\"o\">=</span> <span class=\"n\">tir</span><span class=\"o\">.</span><span class=\"n\">max</span><span class=\"p\">(</span><span class=\"n\">Y</span><span class=\"p\">[</span><span class=\"n\">vb</span><span class=\"p\">,</span> <span class=\"n\">vi</span><span class=\"p\">,</span> <span class=\"n\">vj</span><span class=\"p\">],</span> <span class=\"n\">tir</span><span class=\"o\">.</span><span class=\"n\">float32</span><span class=\"p\">(</span><span class=\"mi\">0</span><span class=\"p\">))</span>\n",
              "    \n",
              "</pre></div>\n",
              "\n"
            ]
          },
          "metadata": {},
          "execution_count": 11
        }
      ]
    },
    {
      "cell_type": "code",
      "source": [
        "dtype = \"float32\"\n",
        "a_np = np.random.rand(16,128,128).astype(dtype)\n",
        "b_np = np.random.rand(16,128,128).astype(dtype)\n",
        "c_np = np.empty((16,128,128),dtype=dtype)\n",
        "lnumpy_mm_relu_v2(a_np, b_np, c_np)"
      ],
      "metadata": {
        "id": "hlFtVtCU-JUf"
      },
      "execution_count": null,
      "outputs": []
    },
    {
      "cell_type": "code",
      "source": [
        "a_nd = tvm.nd.array(a_np)\n",
        "b_nd = tvm.nd.array(b_np)\n",
        "c_nd = tvm.nd.empty((16,128,128), dtype=\"float32\")\n",
        "type(c_nd)"
      ],
      "metadata": {
        "colab": {
          "base_uri": "https://localhost:8080/"
        },
        "id": "ootvuAU0_QKW",
        "outputId": "afcdf9e9-1449-4733-e1cc-68e46b20f6b9"
      },
      "execution_count": null,
      "outputs": [
        {
          "output_type": "execute_result",
          "data": {
            "text/plain": [
              "tvm.runtime.ndarray.NDArray"
            ]
          },
          "metadata": {},
          "execution_count": 13
        }
      ]
    },
    {
      "cell_type": "code",
      "source": [
        "rt_lib = tvm.build(MyBmmRelu, target=\"llvm\")\n",
        "bmmrelu = rt_lib[\"bmm_relu\"]\n",
        "bmmrelu(a_nd, b_nd, c_nd)\n",
        "np.testing.assert_allclose(c_np, c_nd.numpy(), rtol=1e-5)\n",
        "print(\"Pass!!!\")"
      ],
      "metadata": {
        "colab": {
          "base_uri": "https://localhost:8080/"
        },
        "id": "q0E7n2wz_sU1",
        "outputId": "bb26debd-4fe9-44db-cab1-66d07db3f39c"
      },
      "execution_count": null,
      "outputs": [
        {
          "output_type": "stream",
          "name": "stdout",
          "text": [
            "Pass!!!\n"
          ]
        }
      ]
    },
    {
      "cell_type": "markdown",
      "source": [
        "## Transformation to target_mod"
      ],
      "metadata": {
        "id": "pkqhg78_BIph"
      }
    },
    {
      "cell_type": "code",
      "source": [
        "sch = tvm.tir.Schedule(MyBmmRelu)\n",
        "# TODO: transformations\n",
        "# Hints: you can use\n",
        "# `IPython.display.Code(sch.mod.script(), language=\"python\")`\n",
        "# or `print(sch.mod.script())`\n",
        "# to show the current program at any time during the transformation.\n",
        "\n",
        "# Step 1. Get blocks\n",
        "Y = sch.get_block(\"Y\", func_name=\"bmm_relu\")\n",
        "\n",
        "# Step 2. Get loops\n",
        "b, i, j, k = sch.get_loops(Y)\n",
        "sch.parallel(b)\n",
        "\n",
        "# Step 3. Organize the loops\n",
        "j0, j1 = sch.split(j, factors=[None, 8])  # 把128拆成16,8\n",
        "sch.reorder(j0, k, j1)\n",
        "block_C = sch.get_block(\"C\", func_name=\"bmm_relu\")\n",
        "sch.reverse_compute_at(block_C, j0)\n",
        "\n",
        "# Step 4. decompose reduction\n",
        "Y_init = sch.decompose_reduction(Y, k)\n",
        "_, _, _, j1_init = sch.get_loops(sch.get_block(\"Y_init\", func_name=\"bmm_relu\"))\n",
        "k0, k1 = sch.split(k, factors=[None, 4])\n",
        "_, _, _, ax0 = sch.get_loops(block_C)\n",
        "\n",
        "# Step 5. vectorize / parallel / unroll\n",
        "sch.vectorize(j1_init)\n",
        "sch.vectorize(ax0)\n",
        "sch.unroll(k1)\n",
        "# print(sch.mod.script())\n",
        "\n",
        "IPython.display.HTML(code2html(sch.mod.script()))"
      ],
      "metadata": {
        "colab": {
          "base_uri": "https://localhost:8080/",
          "height": 662
        },
        "id": "APHnIBLdBNKO",
        "outputId": "d0cf31c6-1ffc-4d32-a1e8-cb88c41cb799"
      },
      "execution_count": null,
      "outputs": [
        {
          "output_type": "execute_result",
          "data": {
            "text/plain": [
              "<IPython.core.display.HTML object>"
            ],
            "text/html": [
              "<style>.highlight .hll { background-color: #ffffcc }\n",
              ".highlight  { background: #f8f8f8; }\n",
              ".highlight .c { color: #408080; font-style: italic } /* Comment */\n",
              ".highlight .err { border: 1px solid #FF0000 } /* Error */\n",
              ".highlight .k { color: #008000; font-weight: bold } /* Keyword */\n",
              ".highlight .o { color: #666666 } /* Operator */\n",
              ".highlight .ch { color: #408080; font-style: italic } /* Comment.Hashbang */\n",
              ".highlight .cm { color: #408080; font-style: italic } /* Comment.Multiline */\n",
              ".highlight .cp { color: #BC7A00 } /* Comment.Preproc */\n",
              ".highlight .cpf { color: #408080; font-style: italic } /* Comment.PreprocFile */\n",
              ".highlight .c1 { color: #408080; font-style: italic } /* Comment.Single */\n",
              ".highlight .cs { color: #408080; font-style: italic } /* Comment.Special */\n",
              ".highlight .gd { color: #A00000 } /* Generic.Deleted */\n",
              ".highlight .ge { font-style: italic } /* Generic.Emph */\n",
              ".highlight .gr { color: #FF0000 } /* Generic.Error */\n",
              ".highlight .gh { color: #000080; font-weight: bold } /* Generic.Heading */\n",
              ".highlight .gi { color: #00A000 } /* Generic.Inserted */\n",
              ".highlight .go { color: #888888 } /* Generic.Output */\n",
              ".highlight .gp { color: #000080; font-weight: bold } /* Generic.Prompt */\n",
              ".highlight .gs { font-weight: bold } /* Generic.Strong */\n",
              ".highlight .gu { color: #800080; font-weight: bold } /* Generic.Subheading */\n",
              ".highlight .gt { color: #0044DD } /* Generic.Traceback */\n",
              ".highlight .kc { color: #008000; font-weight: bold } /* Keyword.Constant */\n",
              ".highlight .kd { color: #008000; font-weight: bold } /* Keyword.Declaration */\n",
              ".highlight .kn { color: #008000; font-weight: bold } /* Keyword.Namespace */\n",
              ".highlight .kp { color: #008000 } /* Keyword.Pseudo */\n",
              ".highlight .kr { color: #008000; font-weight: bold } /* Keyword.Reserved */\n",
              ".highlight .kt { color: #B00040 } /* Keyword.Type */\n",
              ".highlight .m { color: #666666 } /* Literal.Number */\n",
              ".highlight .s { color: #BA2121 } /* Literal.String */\n",
              ".highlight .na { color: #7D9029 } /* Name.Attribute */\n",
              ".highlight .nb { color: #008000 } /* Name.Builtin */\n",
              ".highlight .nc { color: #0000FF; font-weight: bold } /* Name.Class */\n",
              ".highlight .no { color: #880000 } /* Name.Constant */\n",
              ".highlight .nd { color: #AA22FF } /* Name.Decorator */\n",
              ".highlight .ni { color: #999999; font-weight: bold } /* Name.Entity */\n",
              ".highlight .ne { color: #D2413A; font-weight: bold } /* Name.Exception */\n",
              ".highlight .nf { color: #0000FF } /* Name.Function */\n",
              ".highlight .nl { color: #A0A000 } /* Name.Label */\n",
              ".highlight .nn { color: #0000FF; font-weight: bold } /* Name.Namespace */\n",
              ".highlight .nt { color: #008000; font-weight: bold } /* Name.Tag */\n",
              ".highlight .nv { color: #19177C } /* Name.Variable */\n",
              ".highlight .ow { color: #AA22FF; font-weight: bold } /* Operator.Word */\n",
              ".highlight .w { color: #bbbbbb } /* Text.Whitespace */\n",
              ".highlight .mb { color: #666666 } /* Literal.Number.Bin */\n",
              ".highlight .mf { color: #666666 } /* Literal.Number.Float */\n",
              ".highlight .mh { color: #666666 } /* Literal.Number.Hex */\n",
              ".highlight .mi { color: #666666 } /* Literal.Number.Integer */\n",
              ".highlight .mo { color: #666666 } /* Literal.Number.Oct */\n",
              ".highlight .sa { color: #BA2121 } /* Literal.String.Affix */\n",
              ".highlight .sb { color: #BA2121 } /* Literal.String.Backtick */\n",
              ".highlight .sc { color: #BA2121 } /* Literal.String.Char */\n",
              ".highlight .dl { color: #BA2121 } /* Literal.String.Delimiter */\n",
              ".highlight .sd { color: #BA2121; font-style: italic } /* Literal.String.Doc */\n",
              ".highlight .s2 { color: #BA2121 } /* Literal.String.Double */\n",
              ".highlight .se { color: #BB6622; font-weight: bold } /* Literal.String.Escape */\n",
              ".highlight .sh { color: #BA2121 } /* Literal.String.Heredoc */\n",
              ".highlight .si { color: #BB6688; font-weight: bold } /* Literal.String.Interpol */\n",
              ".highlight .sx { color: #008000 } /* Literal.String.Other */\n",
              ".highlight .sr { color: #BB6688 } /* Literal.String.Regex */\n",
              ".highlight .s1 { color: #BA2121 } /* Literal.String.Single */\n",
              ".highlight .ss { color: #19177C } /* Literal.String.Symbol */\n",
              ".highlight .bp { color: #008000 } /* Name.Builtin.Pseudo */\n",
              ".highlight .fm { color: #0000FF } /* Name.Function.Magic */\n",
              ".highlight .vc { color: #19177C } /* Name.Variable.Class */\n",
              ".highlight .vg { color: #19177C } /* Name.Variable.Global */\n",
              ".highlight .vi { color: #19177C } /* Name.Variable.Instance */\n",
              ".highlight .vm { color: #19177C } /* Name.Variable.Magic */\n",
              ".highlight .il { color: #666666 } /* Literal.Number.Integer.Long */</style><div class=\"highlight\"><pre><span></span><span class=\"nd\">@tvm</span><span class=\"o\">.</span><span class=\"n\">script</span><span class=\"o\">.</span><span class=\"n\">ir_module</span>\n",
              "<span class=\"k\">class</span> <span class=\"nc\">Module</span><span class=\"p\">:</span>\n",
              "    <span class=\"nd\">@tir</span><span class=\"o\">.</span><span class=\"n\">prim_func</span>\n",
              "    <span class=\"k\">def</span> <span class=\"nf\">bmm_relu</span><span class=\"p\">(</span><span class=\"n\">A</span><span class=\"p\">:</span> <span class=\"n\">tir</span><span class=\"o\">.</span><span class=\"n\">Buffer</span><span class=\"p\">[(</span><span class=\"mi\">16</span><span class=\"p\">,</span> <span class=\"mi\">128</span><span class=\"p\">,</span> <span class=\"mi\">128</span><span class=\"p\">),</span> <span class=\"s2\">&quot;float32&quot;</span><span class=\"p\">],</span> <span class=\"n\">B</span><span class=\"p\">:</span> <span class=\"n\">tir</span><span class=\"o\">.</span><span class=\"n\">Buffer</span><span class=\"p\">[(</span><span class=\"mi\">16</span><span class=\"p\">,</span> <span class=\"mi\">128</span><span class=\"p\">,</span> <span class=\"mi\">128</span><span class=\"p\">),</span> <span class=\"s2\">&quot;float32&quot;</span><span class=\"p\">],</span> <span class=\"n\">C</span><span class=\"p\">:</span> <span class=\"n\">tir</span><span class=\"o\">.</span><span class=\"n\">Buffer</span><span class=\"p\">[(</span><span class=\"mi\">16</span><span class=\"p\">,</span> <span class=\"mi\">128</span><span class=\"p\">,</span> <span class=\"mi\">128</span><span class=\"p\">),</span> <span class=\"s2\">&quot;float32&quot;</span><span class=\"p\">])</span> <span class=\"o\">-&gt;</span> <span class=\"kc\">None</span><span class=\"p\">:</span>\n",
              "        <span class=\"c1\"># function attr dict</span>\n",
              "        <span class=\"n\">tir</span><span class=\"o\">.</span><span class=\"n\">func_attr</span><span class=\"p\">({</span><span class=\"s2\">&quot;global_symbol&quot;</span><span class=\"p\">:</span> <span class=\"s2\">&quot;bmm_relu&quot;</span><span class=\"p\">,</span> <span class=\"s2\">&quot;tir.noalias&quot;</span><span class=\"p\">:</span> <span class=\"kc\">True</span><span class=\"p\">})</span>\n",
              "        <span class=\"c1\"># body</span>\n",
              "        <span class=\"c1\"># with tir.block(&quot;root&quot;)</span>\n",
              "        <span class=\"n\">Y</span> <span class=\"o\">=</span> <span class=\"n\">tir</span><span class=\"o\">.</span><span class=\"n\">alloc_buffer</span><span class=\"p\">([</span><span class=\"mi\">16</span><span class=\"p\">,</span> <span class=\"mi\">128</span><span class=\"p\">,</span> <span class=\"mi\">128</span><span class=\"p\">],</span> <span class=\"n\">dtype</span><span class=\"o\">=</span><span class=\"s2\">&quot;float32&quot;</span><span class=\"p\">)</span>\n",
              "        <span class=\"k\">for</span> <span class=\"n\">b</span> <span class=\"ow\">in</span> <span class=\"n\">tir</span><span class=\"o\">.</span><span class=\"n\">parallel</span><span class=\"p\">(</span><span class=\"mi\">16</span><span class=\"p\">):</span>\n",
              "            <span class=\"k\">for</span> <span class=\"n\">i</span><span class=\"p\">,</span> <span class=\"n\">j_0</span> <span class=\"ow\">in</span> <span class=\"n\">tir</span><span class=\"o\">.</span><span class=\"n\">grid</span><span class=\"p\">(</span><span class=\"mi\">128</span><span class=\"p\">,</span> <span class=\"mi\">16</span><span class=\"p\">):</span>\n",
              "                <span class=\"k\">for</span> <span class=\"n\">j_1_init</span> <span class=\"ow\">in</span> <span class=\"n\">tir</span><span class=\"o\">.</span><span class=\"n\">vectorized</span><span class=\"p\">(</span><span class=\"mi\">8</span><span class=\"p\">):</span>\n",
              "                    <span class=\"k\">with</span> <span class=\"n\">tir</span><span class=\"o\">.</span><span class=\"n\">block</span><span class=\"p\">(</span><span class=\"s2\">&quot;Y_init&quot;</span><span class=\"p\">):</span>\n",
              "                        <span class=\"n\">vb</span><span class=\"p\">,</span> <span class=\"n\">vi</span> <span class=\"o\">=</span> <span class=\"n\">tir</span><span class=\"o\">.</span><span class=\"n\">axis</span><span class=\"o\">.</span><span class=\"n\">remap</span><span class=\"p\">(</span><span class=\"s2\">&quot;SS&quot;</span><span class=\"p\">,</span> <span class=\"p\">[</span><span class=\"n\">b</span><span class=\"p\">,</span> <span class=\"n\">i</span><span class=\"p\">])</span>\n",
              "                        <span class=\"n\">vj</span> <span class=\"o\">=</span> <span class=\"n\">tir</span><span class=\"o\">.</span><span class=\"n\">axis</span><span class=\"o\">.</span><span class=\"n\">spatial</span><span class=\"p\">(</span><span class=\"mi\">128</span><span class=\"p\">,</span> <span class=\"n\">j_0</span> <span class=\"o\">*</span> <span class=\"mi\">8</span> <span class=\"o\">+</span> <span class=\"n\">j_1_init</span><span class=\"p\">)</span>\n",
              "                        <span class=\"n\">tir</span><span class=\"o\">.</span><span class=\"n\">reads</span><span class=\"p\">()</span>\n",
              "                        <span class=\"n\">tir</span><span class=\"o\">.</span><span class=\"n\">writes</span><span class=\"p\">(</span><span class=\"n\">Y</span><span class=\"p\">[</span><span class=\"n\">vb</span><span class=\"p\">,</span> <span class=\"n\">vi</span><span class=\"p\">,</span> <span class=\"n\">vj</span><span class=\"p\">])</span>\n",
              "                        <span class=\"n\">Y</span><span class=\"p\">[</span><span class=\"n\">vb</span><span class=\"p\">,</span> <span class=\"n\">vi</span><span class=\"p\">,</span> <span class=\"n\">vj</span><span class=\"p\">]</span> <span class=\"o\">=</span> <span class=\"n\">tir</span><span class=\"o\">.</span><span class=\"n\">float32</span><span class=\"p\">(</span><span class=\"mi\">0</span><span class=\"p\">)</span>\n",
              "                <span class=\"k\">for</span> <span class=\"n\">k_0</span> <span class=\"ow\">in</span> <span class=\"n\">tir</span><span class=\"o\">.</span><span class=\"n\">serial</span><span class=\"p\">(</span><span class=\"mi\">32</span><span class=\"p\">):</span>\n",
              "                    <span class=\"k\">for</span> <span class=\"n\">k_1</span> <span class=\"ow\">in</span> <span class=\"n\">tir</span><span class=\"o\">.</span><span class=\"n\">unroll</span><span class=\"p\">(</span><span class=\"mi\">4</span><span class=\"p\">):</span>\n",
              "                        <span class=\"k\">for</span> <span class=\"n\">j_1</span> <span class=\"ow\">in</span> <span class=\"n\">tir</span><span class=\"o\">.</span><span class=\"n\">serial</span><span class=\"p\">(</span><span class=\"mi\">8</span><span class=\"p\">):</span>\n",
              "                            <span class=\"k\">with</span> <span class=\"n\">tir</span><span class=\"o\">.</span><span class=\"n\">block</span><span class=\"p\">(</span><span class=\"s2\">&quot;Y_update&quot;</span><span class=\"p\">):</span>\n",
              "                                <span class=\"n\">vb</span><span class=\"p\">,</span> <span class=\"n\">vi</span> <span class=\"o\">=</span> <span class=\"n\">tir</span><span class=\"o\">.</span><span class=\"n\">axis</span><span class=\"o\">.</span><span class=\"n\">remap</span><span class=\"p\">(</span><span class=\"s2\">&quot;SS&quot;</span><span class=\"p\">,</span> <span class=\"p\">[</span><span class=\"n\">b</span><span class=\"p\">,</span> <span class=\"n\">i</span><span class=\"p\">])</span>\n",
              "                                <span class=\"n\">vj</span> <span class=\"o\">=</span> <span class=\"n\">tir</span><span class=\"o\">.</span><span class=\"n\">axis</span><span class=\"o\">.</span><span class=\"n\">spatial</span><span class=\"p\">(</span><span class=\"mi\">128</span><span class=\"p\">,</span> <span class=\"n\">j_0</span> <span class=\"o\">*</span> <span class=\"mi\">8</span> <span class=\"o\">+</span> <span class=\"n\">j_1</span><span class=\"p\">)</span>\n",
              "                                <span class=\"n\">vk</span> <span class=\"o\">=</span> <span class=\"n\">tir</span><span class=\"o\">.</span><span class=\"n\">axis</span><span class=\"o\">.</span><span class=\"n\">reduce</span><span class=\"p\">(</span><span class=\"mi\">128</span><span class=\"p\">,</span> <span class=\"n\">k_0</span> <span class=\"o\">*</span> <span class=\"mi\">4</span> <span class=\"o\">+</span> <span class=\"n\">k_1</span><span class=\"p\">)</span>\n",
              "                                <span class=\"n\">tir</span><span class=\"o\">.</span><span class=\"n\">reads</span><span class=\"p\">(</span><span class=\"n\">Y</span><span class=\"p\">[</span><span class=\"n\">vb</span><span class=\"p\">,</span> <span class=\"n\">vi</span><span class=\"p\">,</span> <span class=\"n\">vj</span><span class=\"p\">],</span> <span class=\"n\">A</span><span class=\"p\">[</span><span class=\"n\">vb</span><span class=\"p\">,</span> <span class=\"n\">vi</span><span class=\"p\">,</span> <span class=\"n\">vk</span><span class=\"p\">],</span> <span class=\"n\">B</span><span class=\"p\">[</span><span class=\"n\">vb</span><span class=\"p\">,</span> <span class=\"n\">vk</span><span class=\"p\">,</span> <span class=\"n\">vj</span><span class=\"p\">])</span>\n",
              "                                <span class=\"n\">tir</span><span class=\"o\">.</span><span class=\"n\">writes</span><span class=\"p\">(</span><span class=\"n\">Y</span><span class=\"p\">[</span><span class=\"n\">vb</span><span class=\"p\">,</span> <span class=\"n\">vi</span><span class=\"p\">,</span> <span class=\"n\">vj</span><span class=\"p\">])</span>\n",
              "                                <span class=\"n\">Y</span><span class=\"p\">[</span><span class=\"n\">vb</span><span class=\"p\">,</span> <span class=\"n\">vi</span><span class=\"p\">,</span> <span class=\"n\">vj</span><span class=\"p\">]</span> <span class=\"o\">=</span> <span class=\"n\">Y</span><span class=\"p\">[</span><span class=\"n\">vb</span><span class=\"p\">,</span> <span class=\"n\">vi</span><span class=\"p\">,</span> <span class=\"n\">vj</span><span class=\"p\">]</span> <span class=\"o\">+</span> <span class=\"n\">A</span><span class=\"p\">[</span><span class=\"n\">vb</span><span class=\"p\">,</span> <span class=\"n\">vi</span><span class=\"p\">,</span> <span class=\"n\">vk</span><span class=\"p\">]</span> <span class=\"o\">*</span> <span class=\"n\">B</span><span class=\"p\">[</span><span class=\"n\">vb</span><span class=\"p\">,</span> <span class=\"n\">vk</span><span class=\"p\">,</span> <span class=\"n\">vj</span><span class=\"p\">]</span>\n",
              "                <span class=\"k\">for</span> <span class=\"n\">ax0</span> <span class=\"ow\">in</span> <span class=\"n\">tir</span><span class=\"o\">.</span><span class=\"n\">vectorized</span><span class=\"p\">(</span><span class=\"mi\">8</span><span class=\"p\">):</span>\n",
              "                    <span class=\"k\">with</span> <span class=\"n\">tir</span><span class=\"o\">.</span><span class=\"n\">block</span><span class=\"p\">(</span><span class=\"s2\">&quot;C&quot;</span><span class=\"p\">):</span>\n",
              "                        <span class=\"n\">vb</span><span class=\"p\">,</span> <span class=\"n\">vi</span> <span class=\"o\">=</span> <span class=\"n\">tir</span><span class=\"o\">.</span><span class=\"n\">axis</span><span class=\"o\">.</span><span class=\"n\">remap</span><span class=\"p\">(</span><span class=\"s2\">&quot;SS&quot;</span><span class=\"p\">,</span> <span class=\"p\">[</span><span class=\"n\">b</span><span class=\"p\">,</span> <span class=\"n\">i</span><span class=\"p\">])</span>\n",
              "                        <span class=\"n\">vj</span> <span class=\"o\">=</span> <span class=\"n\">tir</span><span class=\"o\">.</span><span class=\"n\">axis</span><span class=\"o\">.</span><span class=\"n\">spatial</span><span class=\"p\">(</span><span class=\"mi\">128</span><span class=\"p\">,</span> <span class=\"n\">j_0</span> <span class=\"o\">*</span> <span class=\"mi\">8</span> <span class=\"o\">+</span> <span class=\"n\">ax0</span><span class=\"p\">)</span>\n",
              "                        <span class=\"n\">tir</span><span class=\"o\">.</span><span class=\"n\">reads</span><span class=\"p\">(</span><span class=\"n\">Y</span><span class=\"p\">[</span><span class=\"n\">vb</span><span class=\"p\">,</span> <span class=\"n\">vi</span><span class=\"p\">,</span> <span class=\"n\">vj</span><span class=\"p\">])</span>\n",
              "                        <span class=\"n\">tir</span><span class=\"o\">.</span><span class=\"n\">writes</span><span class=\"p\">(</span><span class=\"n\">C</span><span class=\"p\">[</span><span class=\"n\">vb</span><span class=\"p\">,</span> <span class=\"n\">vi</span><span class=\"p\">,</span> <span class=\"n\">vj</span><span class=\"p\">])</span>\n",
              "                        <span class=\"n\">C</span><span class=\"p\">[</span><span class=\"n\">vb</span><span class=\"p\">,</span> <span class=\"n\">vi</span><span class=\"p\">,</span> <span class=\"n\">vj</span><span class=\"p\">]</span> <span class=\"o\">=</span> <span class=\"n\">tir</span><span class=\"o\">.</span><span class=\"n\">max</span><span class=\"p\">(</span><span class=\"n\">Y</span><span class=\"p\">[</span><span class=\"n\">vb</span><span class=\"p\">,</span> <span class=\"n\">vi</span><span class=\"p\">,</span> <span class=\"n\">vj</span><span class=\"p\">],</span> <span class=\"n\">tir</span><span class=\"o\">.</span><span class=\"n\">float32</span><span class=\"p\">(</span><span class=\"mi\">0</span><span class=\"p\">))</span>\n",
              "    \n",
              "</pre></div>\n",
              "\n"
            ]
          },
          "metadata": {},
          "execution_count": 15
        }
      ]
    },
    {
      "cell_type": "markdown",
      "source": [
        "验证transform的mod是否与target mod等价"
      ],
      "metadata": {
        "id": "taITaOAUPEky"
      }
    },
    {
      "cell_type": "code",
      "source": [
        "@tvm.script.ir_module\n",
        "class TargetModule:\n",
        "    @T.prim_func\n",
        "    def bmm_relu(A: T.Buffer[(16, 128, 128), \"float32\"], B: T.Buffer[(16, 128, 128), \"float32\"], C: T.Buffer[(16, 128, 128), \"float32\"]) -> None:\n",
        "        T.func_attr({\"global_symbol\": \"bmm_relu\", \"tir.noalias\": True})\n",
        "        Y = T.alloc_buffer([16, 128, 128], dtype=\"float32\")\n",
        "        for i0 in T.parallel(16):\n",
        "            for i1, i2_0 in T.grid(128, 16):\n",
        "                for ax0_init in T.vectorized(8):\n",
        "                    with T.block(\"Y_init\"):\n",
        "                        n, i = T.axis.remap(\"SS\", [i0, i1])\n",
        "                        j = T.axis.spatial(128, i2_0 * 8 + ax0_init)\n",
        "                        Y[n, i, j] = T.float32(0)\n",
        "                for ax1_0 in T.serial(32):\n",
        "                    for ax1_1 in T.unroll(4):\n",
        "                        for ax0 in T.serial(8):\n",
        "                            with T.block(\"Y_update\"):\n",
        "                                n, i = T.axis.remap(\"SS\", [i0, i1])\n",
        "                                j = T.axis.spatial(128, i2_0 * 8 + ax0)\n",
        "                                k = T.axis.reduce(128, ax1_0 * 4 + ax1_1)\n",
        "                                Y[n, i, j] = Y[n, i, j] + A[n, i, k] * B[n, k, j]\n",
        "                for i2_1 in T.vectorized(8):\n",
        "                    with T.block(\"C\"):\n",
        "                        n, i = T.axis.remap(\"SS\", [i0, i1])\n",
        "                        j = T.axis.spatial(128, i2_0 * 8 + i2_1)\n",
        "                        C[n, i, j] = T.max(Y[n, i, j], T.float32(0))"
      ],
      "metadata": {
        "id": "20eRR3SmNLdp"
      },
      "execution_count": null,
      "outputs": []
    },
    {
      "cell_type": "code",
      "source": [
        "tvm.ir.assert_structural_equal(sch.mod, TargetModule)\n",
        "print(\"Pass!!!\")"
      ],
      "metadata": {
        "colab": {
          "base_uri": "https://localhost:8080/"
        },
        "id": "Wt3boxX5UqF-",
        "outputId": "a0c572ed-0009-47ce-868b-c67131824726"
      },
      "execution_count": null,
      "outputs": [
        {
          "output_type": "stream",
          "name": "stdout",
          "text": [
            "Pass!!!\n"
          ]
        }
      ]
    },
    {
      "cell_type": "markdown",
      "source": [
        "### Time evaluation"
      ],
      "metadata": {
        "id": "D_MJlJE8Uv4O"
      }
    },
    {
      "cell_type": "code",
      "source": [
        "before_rt_lib = tvm.build(MyBmmRelu, target=\"llvm\")\n",
        "after_rt_lib = tvm.build(sch.mod, target=\"llvm\")\n",
        "a_tvm = tvm.nd.array(np.random.rand(16, 128, 128).astype(\"float32\"))\n",
        "b_tvm = tvm.nd.array(np.random.rand(16, 128, 128).astype(\"float32\"))\n",
        "c_tvm = tvm.nd.array(np.random.rand(16, 128, 128).astype(\"float32\"))\n",
        "after_rt_lib[\"bmm_relu\"](a_tvm, b_tvm, c_tvm)\n",
        "before_timer = before_rt_lib.time_evaluator(\"bmm_relu\", tvm.cpu())\n",
        "print(\"Before transformation:\")\n",
        "print(before_timer(a_tvm, b_tvm, c_tvm))\n",
        "\n",
        "f_timer = after_rt_lib.time_evaluator(\"bmm_relu\", tvm.cpu())\n",
        "print(\"After transformation:\")\n",
        "print(f_timer(a_tvm, b_tvm, c_tvm))"
      ],
      "metadata": {
        "colab": {
          "base_uri": "https://localhost:8080/"
        },
        "id": "6nBEaII0UbDA",
        "outputId": "150de3b8-a264-4d43-998c-0e5450c6cafa"
      },
      "execution_count": null,
      "outputs": [
        {
          "output_type": "stream",
          "name": "stdout",
          "text": [
            "Before transformation:\n",
            "Execution time summary:\n",
            " mean (ms)   median (ms)    max (ms)     min (ms)     std (ms)  \n",
            "  54.1929      54.1929      54.1929      54.1929       0.0000   \n",
            "               \n",
            "After transformation:\n",
            "Execution time summary:\n",
            " mean (ms)   median (ms)    max (ms)     min (ms)     std (ms)  \n",
            "  16.3665      16.3665      16.3665      16.3665       0.0000   \n",
            "               \n"
          ]
        }
      ]
    },
    {
      "cell_type": "code",
      "source": [
        ""
      ],
      "metadata": {
        "id": "pj73K11hUgEE"
      },
      "execution_count": null,
      "outputs": []
    }
  ]
}